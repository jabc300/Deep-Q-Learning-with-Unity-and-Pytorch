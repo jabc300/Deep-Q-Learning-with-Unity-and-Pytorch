{
 "cells": [
  {
   "cell_type": "markdown",
   "id": "cbb014a7-ebc7-45dc-9a0f-938fde03b02f",
   "metadata": {},
   "source": [
    "# Creación de agentes inteligentes en videojuegos con Deep Q-Learning utilizando Unity y ML-Agents."
   ]
  },
  {
   "cell_type": "markdown",
   "id": "d07b7be9-6b3e-436c-9a21-111a597a4804",
   "metadata": {},
   "source": [
    "### Introducción\n",
    "**Unity** fue diseñado como un motor de juegos, es decir, un software especializado en la creación de videojuegos, pero con el tiempo Unity se fue actualizando y actualmente es el segundo motor de juegos más utilizado solo superado por el UnrealEngine de EpicGames. Sin embargo el objetivo inicial de ser un motor de videojuegos a cambiado bastante hasta convertirse más en un entorno de simulación.\n",
    "\n",
    "Unity tiene características que le permiten resaltar sobre los demás como un motor de físicas avanzado, capacidad para manejar gráficos en 2D y 3D, compatibilidad con la mayoría de plataformas tecnológicas que van desde sistemas de dispositivos mobiles (Android, IOS), hasta dispositivos de realidad aumentada y realidad virtual (Oculus Rift, Microsoft HoloLens, etc.), en total es compatible con 25 plataformas. También cuenta con una interfaz sencilla de utilizar y el lenguaje de programación principal es C# aunque recientemente liberaron una forma de programación visual para usuarios menos experimentados y la capacidad de usar Python.\n",
    "\n",
    "**The Unity Machine Learning Agents Toolkit** (ML-Agents) es un proyecto open-source que le permite a juegos y simulaciones dentro de Unity servir como environments para el entrenamiento de agentes inteligentes. ML-Agents permite a los desarrolladores utilizar los últimos algoritmos (basados en Pytorch) para el entrenamiento de agentes inteligentes, para 2D, 3D y VR/AR. \n",
    "\n",
    "ML-Agents también cuenta con una API de Python para que los investigadores puedan usar Reinforcement Learning, Imitation Learning, Neuroevolution o cualquier otro método que quieran. Esto es beneficioso tanto para los desarrolladores de juegos que pueden crear mejor IA de una manera más sencilla, así como para los investigadores que tienen en sus manos un motor de simulación bastante avanzado y genérico.\n",
    "\n",
    "### Objetivo\n",
    "En este proyecto se revisará como conectar Python y Unity para entrenar a una agente cuya tarea será moverse a través de un circuito de carreras como lo haría una IA de un juego real mediante Deep Q-Learning mostrando el potencial de crear agentes inteligentes que puedan competir con jugadores en entornos de simulación 3D.\n",
    "\n",
    "### Tecnologías\n",
    "| Tecnología         | Versión         |\n",
    "|--------------------|-----------------|\n",
    "| Unity              | 2019.3.1f1      |\n",
    "| ML-Agents (Plugin) | 1.9.1 (Preview) |\n",
    "| ml-agents (python) | 0.25.1          |\n",
    "| ml-agents-envs     | 0.25.1          |\n",
    "| Python             | 3.9             |\n",
    "| Pytorch            | 1.8.1 + CPU     |\n",
    "\n",
    "### Equipo\n",
    "1. Aguilera Luzania José Luis.\n",
    "2. Baez Camacho Jesús Armando.\n",
    "3. Castro Marquez Francisco Javier."
   ]
  },
  {
   "cell_type": "markdown",
   "id": "5ec7fbb6-9d6f-483c-a346-926d5b4208e6",
   "metadata": {},
   "source": [
    "# 1. Primeros pasos con Unity y ML-Agents."
   ]
  },
  {
   "cell_type": "markdown",
   "id": "5914b420-efa9-4e69-b093-97dffc99a382",
   "metadata": {},
   "source": [
    "## 1.1 Importar dependencias."
   ]
  },
  {
   "cell_type": "code",
   "execution_count": 1,
   "id": "56ec267d-87f2-46fe-8a1c-3d3018ea3dda",
   "metadata": {},
   "outputs": [],
   "source": [
    "import matplotlib.pyplot as plt\n",
    "import numpy as np\n",
    "import sys\n",
    "import torch\n",
    "import random\n",
    "from mlagents_envs.environment import UnityEnvironment\n",
    "from mlagents_envs.environment import ActionTuple, BaseEnv\n",
    "from typing import Tuple\n",
    "from typing import NamedTuple, List\n",
    "from typing import Dict\n",
    "from math import floor"
   ]
  },
  {
   "cell_type": "markdown",
   "id": "18cb10ce-ef70-4409-a5aa-addf09d67403",
   "metadata": {},
   "source": [
    "## 1.2 Conectar ML-Agents Env con Unity.\n",
    "Usamos la función ``UnityEnvironment`` para crear un nuevo environment y conectarlo con Unity.  \n",
    "Mientras la celda esta siendo procesada se debe iniciar la simulación en Unity (playmode)."
   ]
  },
  {
   "cell_type": "code",
   "execution_count": 10,
   "id": "f27abf9e-f3c3-4d87-a76f-f2da057a109b",
   "metadata": {},
   "outputs": [],
   "source": [
    "env = UnityEnvironment(file_name = None, base_port=5004)"
   ]
  },
  {
   "cell_type": "code",
   "execution_count": 11,
   "id": "45dd8ec9-f2a9-4f4c-946a-3201ae35d6ce",
   "metadata": {},
   "outputs": [],
   "source": [
    "env.reset()"
   ]
  },
  {
   "cell_type": "markdown",
   "id": "455cdb8e-649b-4def-80d6-b3028cd87ab3",
   "metadata": {},
   "source": [
    "## 1.3 Obtener la información del agente.\n",
    "Revisamos la información del agente, primero revisamos el nombre del comportamiento asignado y las específicaciones de ese comportamiento."
   ]
  },
  {
   "cell_type": "code",
   "execution_count": 12,
   "id": "a23ec35b-c407-46d5-8ac5-32bd14fbab50",
   "metadata": {},
   "outputs": [
    {
     "name": "stdout",
     "output_type": "stream",
     "text": [
      "Behavior name: CarAI?team=0 \n",
      "\n",
      "[ObservationSpec(shape=(84, 84, 4), dimension_property=(<DimensionProperty.UNSPECIFIED: 0>, <DimensionProperty.UNSPECIFIED: 0>, <DimensionProperty.UNSPECIFIED: 0>), observation_type=<ObservationType.DEFAULT: 0>, name='StackingSensor_size4_CameraSensor')]\n",
      "\n",
      "Númer of observations: 1\n",
      "\n",
      "Visual observation: True\n",
      "\n",
      "There are 1 discrete actions.\n"
     ]
    }
   ],
   "source": [
    "# Nombre del primer comportamiento.\n",
    "behavior_name = list(env.behavior_specs)[0]\n",
    "print(f\"Behavior name: {behavior_name} \\n\")\n",
    "\n",
    "# Específicaciones del comportamiento.\n",
    "spec = env.behavior_specs[behavior_name]\n",
    "print(spec.observation_specs)\n",
    "\n",
    "# Número de observaciones.\n",
    "print(f\"\\nNúmer of observations: {len(spec.observation_specs)}\")\n",
    "\n",
    "# ¿Hay una observación visual?\n",
    "vis_obs = any(len(spec.shape) == 3 for spec in spec.observation_specs)\n",
    "print(f\"\\nVisual observation: {vis_obs}\")\n",
    "\n",
    "# ¿La acción es continua o multi discreta?\n",
    "if spec.action_spec.continuous_size > 0:\n",
    "    print(f\"\\nThere are {spec.action_spec.continuous_size} continuous actions.\")\n",
    "if spec.action_spec.is_discrete():\n",
    "    print(f\"\\nThere are {spec.action_spec.discrete_size} discrete actions.\")"
   ]
  },
  {
   "cell_type": "markdown",
   "id": "cce15163-6b1f-492c-974f-06f3aacbeac3",
   "metadata": {},
   "source": [
    "## 1.4 Steps.\n",
    "Obtenemos los steps de decisión y los terminales. Los steps contienen información sobre las observaciones y las rewards del agente. Establecemos las acciones en env para todos los agentes en la simulación para el siguiente step específicando el nombre del comportamiento y las acciones."
   ]
  },
  {
   "cell_type": "code",
   "execution_count": 13,
   "id": "e61f096c-12cc-4af2-9d37-824bb2cac185",
   "metadata": {},
   "outputs": [],
   "source": [
    "decision_steps, terminal_steps = env.get_steps(behavior_name)\n",
    "env.set_actions(behavior_name, spec.action_spec.empty_action(len(decision_steps)))"
   ]
  },
  {
   "cell_type": "code",
   "execution_count": 14,
   "id": "7eececc6-92a7-40da-a9de-028f0b23272c",
   "metadata": {},
   "outputs": [],
   "source": [
    "env.step()"
   ]
  },
  {
   "cell_type": "markdown",
   "id": "3bdd75b7-482b-4949-aadb-9512086666ff",
   "metadata": {},
   "source": [
    "### 1.5 La primera observación visual."
   ]
  },
  {
   "cell_type": "code",
   "execution_count": 15,
   "id": "4d18482f-f9a8-491b-b25a-e7df77b5fdee",
   "metadata": {},
   "outputs": [
    {
     "name": "stdout",
     "output_type": "stream",
     "text": [
      "Here is the first visual observation.\n",
      "(84, 84, 4)\n"
     ]
    },
    {
     "data": {
      "image/png": "[encoded data removed]",
      "text/plain": [
       "<Figure size 432x288 with 1 Axes>"
      ]
     },
     "metadata": {
      "needs_background": "light"
     },
     "output_type": "display_data"
    }
   ],
   "source": [
    "%matplotlib inline\n",
    "\n",
    "for index, obs_spec in enumerate(spec.observation_specs):\n",
    "  if len(obs_spec.shape) == 3:\n",
    "    print(\"Here is the first visual observation.\")\n",
    "    print(decision_steps.obs[index][0,:,:,:].shape)\n",
    "    plt.imshow(decision_steps.obs[index][0,:,:,:])\n",
    "    plt.show()\n",
    "\n",
    "for index, obs_spec in enumerate(spec.observation_specs):\n",
    "  if len(obs_spec.shape) == 1:\n",
    "    print(f\"First vector observations: {decision_steps.obs[index][0,:]}\")"
   ]
  },
  {
   "cell_type": "markdown",
   "id": "1753dd47-0a81-410f-bd00-2a02277a0d0a",
   "metadata": {},
   "source": [
    "### 1.6 Probar el seguimeinto de los agentes.\n"
   ]
  },
  {
   "cell_type": "code",
   "execution_count": 16,
   "id": "32214f9a-e4c4-4729-b2e6-6cbc01840d72",
   "metadata": {},
   "outputs": [
    {
     "name": "stdout",
     "output_type": "stream",
     "text": [
      "Total rewards for episode 0 is -1.0.\n",
      "Total rewards for episode 1 is -2.0.\n",
      "Total rewards for episode 2 is -2.0.\n",
      "Closed environment.\n"
     ]
    }
   ],
   "source": [
    "for episode in range(3):\n",
    "    env.reset()\n",
    "    decision_steps, terminal_steps = env.get_steps(behavior_name)\n",
    "    \n",
    "    # -1 Sin seguimiento.\n",
    "    tracked_agent = -1 # -1 not yet tracking\n",
    "    \n",
    "    # Para el agente en segimiento.\n",
    "    done = False\n",
    "    episode_rewards = 0\n",
    "    \n",
    "    while not done:\n",
    "        # Seguimiento del primer agente si este no esta en seguimiento.\n",
    "        # Nota : len(decision_steps) = [number of agents that requested]\n",
    "        if tracked_agent == -1 and len(decision_steps) >= 1:\n",
    "            tracked_agent = decision_steps.agent_id[0]\n",
    "        \n",
    "        # Generar las acciones para todos los agentes.\n",
    "        action = spec.action_spec.random_action(len(decision_steps))\n",
    "        \n",
    "        # Establecer las acciones.\n",
    "        env.set_actions(behavior_name, action)\n",
    "        \n",
    "        # Movemos la simulación al siguiente step.\n",
    "        env.step()\n",
    "        \n",
    "        #Recopilar los resultados de la simulación.\n",
    "        decision_steps, terminal_steps = env.get_steps(behavior_name)\n",
    "        \n",
    "        # El agente solicitó una decisión.\n",
    "        if tracked_agent in decision_steps:\n",
    "            episode_rewards += decision_steps[tracked_agent].reward\n",
    "        if tracked_agent in terminal_steps:\n",
    "            episode_rewards += terminal_steps[tracked_agent].reward\n",
    "            done = True\n",
    "    \n",
    "    # Se imprimen los resultados del episodio.\n",
    "    print(f\"Total rewards for episode {episode} is {episode_rewards}.\")\n",
    "    \n",
    "# Se cierra en environment.\n",
    "env.close()\n",
    "print(\"Closed environment.\")"
   ]
  },
  {
   "cell_type": "markdown",
   "id": "d85edb41-7cff-43ae-a1c1-0eda6ea95031",
   "metadata": {},
   "source": [
    "# 2. Modelo, experiencia y entrenamiento."
   ]
  },
  {
   "cell_type": "markdown",
   "id": "a28ba823-8198-477e-9023-37357081e642",
   "metadata": {},
   "source": [
    "## 2.1 Definición del Modelo.\n",
    "Primero definimos definimos el modelo ``VisuaQNetwork`` que usaremos para el entrenamiento del agente.  \n",
    "La entrada del modelo será un tensor tridimensional (84,84,4) porque recibirá r stacks de imagenes de 84x84 pixeles.  \n",
    "La salida del modelo será un tensor unidimensional porque solo hay un branch de acciones posibles (3)."
   ]
  },
  {
   "cell_type": "code",
   "execution_count": 21,
   "id": "1a58322d-db7f-46d5-a0d3-8eff8615e37b",
   "metadata": {},
   "outputs": [],
   "source": [
    "class VisualQNetwork(torch.nn.Module):\n",
    "    def __init__(\n",
    "        self,\n",
    "        input_shape: Tuple[int, int, int], \n",
    "        encoding_size: int, \n",
    "        output_size: int\n",
    "    ):\n",
    "        \"\"\"\n",
    "        Crea una red neuronal que toma como input un batch de imagenes \n",
    "        (tensor tridimensional) y da como salida un batch de outputs \n",
    "        (tensor unidimensional).\n",
    "        \"\"\"\n",
    "        super(VisualQNetwork, self).__init__()\n",
    "        height = input_shape[0]\n",
    "        width = input_shape[1]\n",
    "        initial_channels = input_shape[2]\n",
    "        conv_1_hw = self.conv_output_shape((height, width), 8, 4)\n",
    "        conv_2_hw = self.conv_output_shape(conv_1_hw, 4, 2)\n",
    "        self.final_flat = conv_2_hw[0] * conv_2_hw[1] * 32\n",
    "        self.conv1 = torch.nn.Conv2d(initial_channels, 16, [8, 8], [4, 4])\n",
    "        self.batchNorm1 = torch.nn.BatchNorm2d(16)\n",
    "        self.conv2 = torch.nn.Conv2d(16, 32, [4, 4], [2, 2])\n",
    "        self.dense1 = torch.nn.Linear(self.final_flat, encoding_size)\n",
    "        self.dense2 = torch.nn.Linear(encoding_size, output_size)\n",
    "\n",
    "    def forward(self, visual_obs: torch.tensor):\n",
    "        visual_obs = visual_obs.permute(0, 3, 1, 2)\n",
    "        conv_1 = torch.relu(self.conv1(visual_obs))\n",
    "        conv_2 = torch.relu(self.conv2(conv_1))\n",
    "        hidden = self.dense1(conv_2.reshape([-1, self.final_flat]))\n",
    "        hidden = torch.relu(hidden)\n",
    "        hidden = self.dense2(hidden)\n",
    "        return hidden\n",
    "\n",
    "    @staticmethod\n",
    "    def conv_output_shape(\n",
    "        h_w: Tuple[int, int],\n",
    "        kernel_size: int = 1,\n",
    "        stride: int = 1,\n",
    "        pad: int = 0,\n",
    "        dilation: int = 1,\n",
    "        ):\n",
    "            \"\"\"\n",
    "            Calcula la altura y el ancho de la salida de una convolution layer.\n",
    "            \"\"\"\n",
    "            h = floor(\n",
    "              ((h_w[0] + (2 * pad) - (dilation * (kernel_size - 1)) - 1) / stride) + 1\n",
    "            )\n",
    "            w = floor(\n",
    "              ((h_w[1] + (2 * pad) - (dilation * (kernel_size - 1)) - 1) / stride) + 1\n",
    "            )\n",
    "            return h, w"
   ]
  },
  {
   "cell_type": "markdown",
   "id": "8330d709-8c96-4c05-b779-ba74eb4f9084",
   "metadata": {},
   "source": [
    "## 2.2 Definición de Experiencia\n",
    "Definimos una experiencia como un contenedor de los datos de transición de un agente.  \n",
    "Contiene: observación, acción, recompensa, una bandera de 'hecho' y la siguiente observación."
   ]
  },
  {
   "cell_type": "code",
   "execution_count": 22,
   "id": "ba8630a9-611d-4baf-968f-48f82658ff29",
   "metadata": {},
   "outputs": [],
   "source": [
    "class Experience(NamedTuple):\n",
    "    \"\"\"\n",
    "    Una experiencia contiene los datos de la transición de un agente.\n",
    "        -Observation\n",
    "        -Action\n",
    "        -Reward\n",
    "        -Done flag\n",
    "        -Next Observation\n",
    "    \"\"\"\n",
    "    \n",
    "    obs: np.ndarray\n",
    "    action: np.ndarray\n",
    "    reward: float\n",
    "    done: bool\n",
    "    next_obs: np.ndarray\n",
    "\n",
    "# Una trayectoria es una secuencia ordenada de experiencias.\n",
    "Trajectory = List[Experience]\n",
    "\n",
    "# Un búfer es una lista desordenada de experiencias de múltiples trayectorias.\n",
    "Buffer = List[Experience]"
   ]
  },
  {
   "cell_type": "markdown",
   "id": "3de650b6-50cc-4840-b01d-70a2e76d5ea0",
   "metadata": {},
   "source": [
    "## 2.3 Definición del entrenamiento"
   ]
  },
  {
   "cell_type": "code",
   "execution_count": 23,
   "id": "0e7396db-03cd-44f9-a11c-8a3bdf2ad02e",
   "metadata": {},
   "outputs": [],
   "source": [
    "class Trainer:\n",
    "    @staticmethod\n",
    "    def generate_trajectories(\n",
    "        env: BaseEnv, q_net: VisualQNetwork, buffer_size: int, epsilon: float\n",
    "    ):\n",
    "        \"\"\"\n",
    "        Dado un Unity Environment y una Q-Network, este método generará un búfer de \n",
    "        Experiencias obtenidas al ejecutar el Environment con la Policy derivada de \n",
    "        la Q-Network.\n",
    "        :param BaseEnv: El UnityEnvironment usado.\n",
    "        :param q_net: La Q-Network usada para recolectar la data.\n",
    "        :param buffer_size: El tamaño mínimo del buffer que devolverá este método.\n",
    "        :param epsilon: Agregará una variable normal aleatoria con desviación estándar.\n",
    "        epsilon a los valores de la Q-Network para fomentar la exploración.\n",
    "        :returns: una Tuple que contiene el búfer creado y el promedio acumulado de los \n",
    "        agentes obtenidos.\n",
    "        \"\"\"\n",
    "        # Crear un buffer vacio.\n",
    "        buffer: Buffer = []\n",
    "\n",
    "        # Reiniciar el environment.\n",
    "        env.reset()\n",
    "        # Leer y guardar el nombre del comportamiento del env.\n",
    "        behavior_name = list(env.behavior_specs)[0]\n",
    "        # Leer y guardar las específicaciones del comportamiento del env.\n",
    "        spec = env.behavior_specs[behavior_name]\n",
    "\n",
    "        # Mapping AgentID -> trajectories. Ayuda a crear trayectorias para cada agente.\n",
    "        dict_trajectories_from_agent: Dict[int, Trajectory] = {}\n",
    "        # Mapping AgentId -> \"last observation\".\n",
    "        dict_last_obs_from_agent: Dict[int, np.ndarray] = {}\n",
    "        # Mapping AgentId -> \"last action\".\n",
    "        dict_last_action_from_agent: Dict[int, np.ndarray] = {}\n",
    "        # Mapping AgentId -> cumulative reward (Solo para reporte).\n",
    "        dict_cumulative_reward_from_agent: Dict[int, float] = {}\n",
    "        # Lista que guarda las recompensas acumuladas hasta el momento.\n",
    "        cumulative_rewards: List[float] = []\n",
    "\n",
    "        # Mientras no exista suficiente data en el buffer.\n",
    "        while len(buffer) < buffer_size:\n",
    "            # Obtener los Decision Steps y Terminal Steps del agente.\n",
    "            decision_steps, terminal_steps = env.get_steps(behavior_name)\n",
    "\n",
    "            # Para todos los agentes con un Terminal Step:\n",
    "            for agent_id_terminated in terminal_steps:\n",
    "                # Se crea la última experiencia.\n",
    "                last_experience = Experience(\n",
    "                      obs=dict_last_obs_from_agent[agent_id_terminated].copy(),\n",
    "                      reward=terminal_steps[agent_id_terminated].reward,\n",
    "                      done=not terminal_steps[agent_id_terminated].interrupted,\n",
    "                      action=dict_last_action_from_agent[agent_id_terminated].copy(),\n",
    "                      next_obs=terminal_steps[agent_id_terminated].obs[0],\n",
    "                )\n",
    "                # Se limpia la última observación y la última acción. (La trayectoria termino).\n",
    "                dict_last_obs_from_agent.pop(agent_id_terminated)\n",
    "                dict_last_action_from_agent.pop(agent_id_terminated)\n",
    "                # Se reporta la recompensa acumulada.\n",
    "                cumulative_reward = (\n",
    "                  dict_cumulative_reward_from_agent.pop(agent_id_terminated)\n",
    "                  + terminal_steps[agent_id_terminated].reward\n",
    "                )\n",
    "                cumulative_rewards.append(cumulative_reward)\n",
    "                # Se añade la Trayectoria y la última experiencia al buffer.\n",
    "                buffer.extend(dict_trajectories_from_agent.pop(agent_id_terminated))\n",
    "                buffer.append(last_experience)\n",
    "\n",
    "            # Para todos los agentes con Decision Step:\n",
    "            for agent_id_decisions in decision_steps:\n",
    "                # Si el agente no tiene una trayectoria, se crea una vacia.\n",
    "                if agent_id_decisions not in dict_trajectories_from_agent:\n",
    "                    dict_trajectories_from_agent[agent_id_decisions] = []\n",
    "                    dict_cumulative_reward_from_agent[agent_id_decisions] = 0\n",
    "\n",
    "                # Si el agente solicita una decisión con la última observación\n",
    "                if agent_id_decisions in dict_last_obs_from_agent:\n",
    "                    # Se crea una experiencia de la última observación y el Decision Step.\n",
    "                    exp = Experience(\n",
    "                        obs=dict_last_obs_from_agent[agent_id_decisions].copy(),\n",
    "                        reward=decision_steps[agent_id_decisions].reward,\n",
    "                        done=False,\n",
    "                        action=dict_last_action_from_agent[agent_id_decisions].copy(),\n",
    "                        next_obs=decision_steps[agent_id_decisions].obs[0],\n",
    "                    )\n",
    "                    # Se actualiza la trayectoria del agente y su recompensa acumulada.\n",
    "                    dict_trajectories_from_agent[agent_id_decisions].append(exp)\n",
    "                    dict_cumulative_reward_from_agent[agent_id_decisions] += (\n",
    "                        decision_steps[agent_id_decisions].reward\n",
    "                    )\n",
    "                # Guarda la observación como la nueva última observación.\n",
    "                dict_last_obs_from_agent[agent_id_decisions] = (\n",
    "                  decision_steps[agent_id_decisions].obs[0]\n",
    "                )\n",
    "\n",
    "            # Se genera una acción para cada agente que solicit una decisión.\n",
    "            # Se calculan los valores para cada acción dada la observación.\n",
    "            actions_values = (\n",
    "                q_net(torch.from_numpy(decision_steps.obs[0])).detach().numpy()\n",
    "            )\n",
    "            # Se añade algo de ruido epsilon a los valores.\n",
    "            actions_values += epsilon * (\n",
    "                np.random.randn(actions_values.shape[0], actions_values.shape[1])\n",
    "            ).astype(np.float32)\n",
    "            # Selecciona la mejor acción usando argmax.\n",
    "            actions = np.argmax(actions_values, axis=1)\n",
    "            actions.resize((len(decision_steps), 1))\n",
    "            # Guarda la acción, se pondrá en una trayectoría después.\n",
    "            for agent_index, agent_id in enumerate(decision_steps.agent_id):\n",
    "                dict_last_action_from_agent[agent_id] = actions[agent_index]\n",
    "\n",
    "            # Se establecen las acciones del environment.\n",
    "            # Los Unity Environments esperan instancias del tipo ActionTuple.\n",
    "            action_tuple = ActionTuple()\n",
    "            action_tuple.add_discrete(actions)\n",
    "            env.set_actions(behavior_name, action_tuple)\n",
    "            # Se realiza un paso en la simulación.\n",
    "            env.step()\n",
    "        return buffer, np.mean(cumulative_rewards)\n",
    "        \n",
    "    @staticmethod\n",
    "    def update_q_net(\n",
    "        q_net: VisualQNetwork, \n",
    "        optimizer: torch.optim, \n",
    "        buffer: Buffer, \n",
    "        action_size: int\n",
    "    ):\n",
    "        \"\"\"\n",
    "        Realiza una actualización de Q-Network utilizando el optimizador y el búfer proporcionados\n",
    "        \"\"\"\n",
    "        BATCH_SIZE = 1000\n",
    "        NUM_EPOCH = 3\n",
    "        GAMMA = 0.9\n",
    "        batch_size = min(len(buffer), BATCH_SIZE)\n",
    "        random.shuffle(buffer)\n",
    "        # Se separa el buffer en batches.\n",
    "        batches = [\n",
    "          buffer[batch_size * start : batch_size * (start + 1)]\n",
    "          for start in range(int(len(buffer) / batch_size))\n",
    "        ]\n",
    "        for _ in range(NUM_EPOCH):\n",
    "            for batch in batches:\n",
    "                # Create the Tensors that will be fed in the network\n",
    "                obs = torch.from_numpy(np.stack([ex.obs for ex in batch]))\n",
    "                reward = torch.from_numpy(\n",
    "                  np.array([ex.reward for ex in batch], dtype=np.float32).reshape(-1, 1)\n",
    "                )\n",
    "                done = torch.from_numpy(\n",
    "                  np.array([ex.done for ex in batch], dtype=np.float32).reshape(-1, 1)\n",
    "                )\n",
    "                action = torch.from_numpy(np.stack([ex.action for ex in batch]))\n",
    "                next_obs = torch.from_numpy(np.stack([ex.next_obs for ex in batch]))\n",
    "\n",
    "                # Use the Bellman equation to update the Q-Network\n",
    "                target = (\n",
    "                  reward\n",
    "                  + (1.0 - done)\n",
    "                  * GAMMA\n",
    "                  * torch.max(q_net(next_obs).detach(), dim=1, keepdim=True).values\n",
    "                )\n",
    "                mask = torch.zeros((len(batch), action_size))\n",
    "                mask.scatter_(1, action, 1)\n",
    "                prediction = torch.sum(qnet(obs) * mask, dim=1, keepdim=True)\n",
    "                criterion = torch.nn.MSELoss()\n",
    "                loss = criterion(prediction, target)\n",
    "\n",
    "                # Perform the backpropagation\n",
    "                optimizer.zero_grad()\n",
    "                loss.backward()\n",
    "                optimizer.step()"
   ]
  },
  {
   "cell_type": "markdown",
   "id": "46d509fc-2d37-48aa-8b10-6b27903a04e5",
   "metadata": {},
   "source": [
    "# 3. Entrenamiento y resultados"
   ]
  },
  {
   "cell_type": "markdown",
   "id": "4e4e29fa-eb60-40c0-9fae-5a653b0c1942",
   "metadata": {},
   "source": [
    "Ahora usamos todo lo anterior para crear un nuevo environment, conectarlo con Unity y después entrenamos al agente usando la red neuronal definida arriba. "
   ]
  },
  {
   "cell_type": "code",
   "execution_count": null,
   "id": "a4d645d3-2534-4a38-8508-918c53e611f3",
   "metadata": {},
   "outputs": [
    {
     "name": "stdout",
     "output_type": "stream",
     "text": [
      "Environment created\n",
      "Training step 1 \treward -4.0\n",
      "Training step 2 \treward -4.0\n"
     ]
    }
   ],
   "source": [
    "# Cierra un env si no ha sido cerrado antes.\n",
    "try:\n",
    "    env.close()\n",
    "except:\n",
    "    pass\n",
    "\n",
    "env = UnityEnvironment(file_name = None, base_port=5004)\n",
    "print(\"Environment created\")\n",
    "\n",
    "# Se crea una Q-Network.\n",
    "qnet_input = (84,84,4)\n",
    "qnet_output = 3\n",
    "qnet_encoding_size = 126\n",
    "qnet = VisualQNetwork(qnet_input, qnet_encoding_size, qnet_output)\n",
    "\n",
    "# Se crea un bufer para las experiencias.\n",
    "experiences: Buffer = []\n",
    "    \n",
    "# Se define el optimizador (Adam).\n",
    "optim = torch.optim.Adam(qnet.parameters(), lr= 0.001)\n",
    "\n",
    "# Contenedor para las recompensas acumuladas.\n",
    "cumulative_rewards: List[float] = []\n",
    "\n",
    "# Se definen el número de steps a realizar (70).\n",
    "NUM_TRAINING_STEPS = 50\n",
    "\n",
    "# Se define el número de experiencias a recolectar en cada step de entrenamiento.\n",
    "NUM_NEW_EXP = 1000\n",
    "\n",
    "# Se define el tamaño máximo del buffer.\n",
    "BUFFER_SIZE = 10000\n",
    "\n",
    "for n in range(NUM_TRAINING_STEPS):\n",
    "    new_exp,_ = Trainer.generate_trajectories(env, qnet, NUM_NEW_EXP, epsilon = 0.1)\n",
    "    random.shuffle(experiences)\n",
    "    if len(experiences) > BUFFER_SIZE:\n",
    "        experiences = experiences[:BUFFER_SIZE]\n",
    "    experiences.extend(new_exp)\n",
    "    Trainer.update_q_net(qnet, optim, experiences, 3)\n",
    "    _, rewards = Trainer.generate_trajectories(env, qnet, 100, epsilon = 0)\n",
    "    cumulative_rewards.append(rewards)\n",
    "    print(\"Training step\", n+1, \"\\treward\", rewards)\n",
    "    \n",
    "env.close()\n",
    "print(\"Closed environment.\")\n",
    "\n",
    "# Muestra el gráfico de entrenamiento.\n",
    "plt.plot(range(NUM_TRAINING_STEPS), cumulative_rewards)"
   ]
  },
  {
   "cell_type": "markdown",
   "id": "b1de43b7-efdf-4bf3-9a34-b513a17ccc81",
   "metadata": {},
   "source": [
    "# 4. Exportar el modelo"
   ]
  },
  {
   "cell_type": "code",
   "execution_count": 27,
   "id": "31d774e2-352f-4302-98c0-026b74afdb2f",
   "metadata": {},
   "outputs": [],
   "source": [
    "qnet.eval()\n",
    "\n",
    "PATH = \"car_qnet_model.pt\"\n",
    "torch.save(qnet.state_dict(), PATH)"
   ]
  },
  {
   "cell_type": "markdown",
   "id": "9f70e926-6a42-4932-8d90-a3758ce203f7",
   "metadata": {},
   "source": [
    "  "
   ]
  }
 ],
 "metadata": {
  "kernelspec": {
   "display_name": "Python 3",
   "language": "python",
   "name": "python3"
  },
  "language_info": {
   "codemirror_mode": {
    "name": "ipython",
    "version": 3
   },
   "file_extension": ".py",
   "mimetype": "text/x-python",
   "name": "python",
   "nbconvert_exporter": "python",
   "pygments_lexer": "ipython3",
   "version": "3.9.5"
  }
 },
 "nbformat": 4,
 "nbformat_minor": 5
}
